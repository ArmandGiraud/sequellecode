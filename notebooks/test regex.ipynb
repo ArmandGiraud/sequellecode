{
 "cells": [
  {
   "cell_type": "code",
   "execution_count": 77,
   "metadata": {
    "collapsed": true
   },
   "outputs": [],
   "source": [
    "import re\n",
    "\n",
    "def find_context(text, article):\n",
    "    \"\"\"check for a given article the surrounding text and try to find some reference to codes\"\"\"\n",
    "    before = r\"(?P<before>.{1,80})\"\n",
    "    after = r\"(?P<after>.{1,80})\"\n",
    "    regex_article = before + article + after\n",
    "    regex_article = re.compile(regex_article)\n",
    "    context_list = re.findall(regex_article, text)\n",
    "    if context_list:\n",
    "        context = \" \".join(context_list[0]).lower()\n",
    "        return context\n",
    "    else:\n",
    "        print(\"article menntion not found\")\n",
    "        \n",
    "def find_articles_position(text):\n",
    "    \"\"\"find articles mentions in raw string\"\"\"\n",
    "    regex_article = re.compile(\"((?:R|L|D|l|r|d)(?:\\s|\\.|\\.\\s)?\\d{3,4}(?:-\\d{1,2})?(?:-\\d{1,2})?)\")\n",
    "    articles = re.finditer(regex_article, text)\n",
    "    articles = [(art.group(), art.span()) for art in articles]\n",
    "    return list(zip(*articles))\n",
    "    \n",
    "def find_articles_code(text, code_strings = [\"code du travail\"]):\n",
    "    \"\"\"detect articles and reference to a code in the surrounding 80 characters\"\"\"\n",
    "    articles, positions = find_articles_position(text)\n",
    "    contextes = [find_context(text, art) for art in articles]\n",
    "    assert len(articles) == len(contextes), \"problem in function find_context\"\n",
    "    codes = [detect_code(context, code_strings) for context in contextes]\n",
    "    articles_normalized = [normalize_digit(art) for art in articles]\n",
    "    \n",
    "    return list(zip(articles_normalized, codes)), (articles, positions)\n",
    "\n",
    "def detect_code(context, code_strings):\n",
    "    \"\"\"detect in the given surrounding context a code reference\"\"\"\n",
    "    return set(code for code in code_strings if code in context)"
   ]
  },
  {
   "cell_type": "code",
   "execution_count": 78,
   "metadata": {
    "collapsed": true
   },
   "outputs": [],
   "source": [
    "def replace_space(text):\n",
    "    \"remove any kind of space\"\n",
    "    return re.sub(r\"\\xa0|\\n|\\s\",\"\", text)\n",
    "\n",
    "def replace_lower(text):\n",
    "    return text.upper()\n",
    "\n",
    "def replace_point(text):\n",
    "    \"remove point in article mention\"\n",
    "    return re.sub(\"\\.\", \"\", text)\n",
    "\n",
    "def normalize_digit(text):\n",
    "    \"\"\"take ill-defined article reference and turn it into Legifrance ready\n",
    "    ex: l. 783-2 --> L783-2\"\"\"\n",
    "    text = replace_space(text)\n",
    "    text = replace_lower(text)\n",
    "    text = replace_point(text)\n",
    "    return text\n",
    " \n",
    "def build_url(legiart):\n",
    "    \"\"\"turn LEGIARTI ID into url\"\"\"\n",
    "    url = \"https://www.legifrance.gouv.fr/affichCodeArticle.do?idArticle=\" + legiart + \"&cidTexte=LEGITEXT000006072050&dateTexte=20191231\"\n",
    "    return url"
   ]
  },
  {
   "cell_type": "code",
   "execution_count": 99,
   "metadata": {
    "collapsed": true
   },
   "outputs": [],
   "source": [
    "text = \"\"\"Une pause de 20 minutes est obligatoire au bout de six heures de travail échues.\n",
    "     Cette obligation est énoncée aux l’article L3121-33 et L. L3121-31 du Code du travail:\n",
    "    mais toutefois cela contredit l'article  L3187-1 du code de la sécurité sociale\"\"\""
   ]
  },
  {
   "cell_type": "code",
   "execution_count": 8,
   "metadata": {},
   "outputs": [],
   "source": [
    "import json\n",
    "with open(\"../data/mapping-articles-cdtn.json\", \"r\") as f:\n",
    "    code_json = json.load(f)\n",
    "    \n",
    "def find_article_id(article):\n",
    "    \"\"\"return article legi id, if not found: either article is obsolete or not in the detected code\"\"\"\n",
    "    article_id = code_json.get(article)\n",
    "    if not article_id: \n",
    "        return None\n",
    "    return build_url(article_id)"
   ]
  },
  {
   "cell_type": "code",
   "execution_count": 101,
   "metadata": {},
   "outputs": [],
   "source": [
    "def make_href_mark(url, text):\n",
    "    return '<a href=\"' + url + '\">' + text + '</a>'\n",
    "\n",
    "def put_links(text):\n",
    "    articles_normalized, (articles, positions) = find_articles_code(text)\n",
    "    \n",
    "    articles_normalized = [art[0] for art in articles_normalized] # change this line to add new codes\n",
    "    links = [find_article_id(art) for art in articles_normalized]\n",
    "    markups = [(make_href_mark(link, art_norm), art, pos) for link, art_norm, art, pos in zip(links, articles_normalized, articles, positions) if link]\n",
    "    offset = 0\n",
    "    for markup in markups:\n",
    "        text , offset = add_single_markup(text, markup, offset)\n",
    "        \n",
    "    return text"
   ]
  },
  {
   "cell_type": "code",
   "execution_count": 102,
   "metadata": {},
   "outputs": [],
   "source": [
    "def add_single_markup(text, markup, offset):\n",
    "    markup_text, art_len, position = markup\n",
    "    start, end = position\n",
    "    start, end = start + offset, end + offset\n",
    "    new_text = text[:start] + markup_text + text[end:]\n",
    "    return new_text, len(markup_text) - len(art_len)  + offset"
   ]
  },
  {
   "cell_type": "code",
   "execution_count": 103,
   "metadata": {
    "scrolled": false
   },
   "outputs": [
    {
     "data": {
      "text/html": [
       "Une pause de 20 minutes est obligatoire au bout de six heures de travail échues.\n",
       "     Cette obligation est énoncée aux l’article <a href=\"https://www.legifrance.gouv.fr/affichCodeArticle.do?idArticle=LEGIARTI000035653042&cidTexte=LEGITEXT000006072050&dateTexte=20191231\">L3121-33</a> et L. <a href=\"https://www.legifrance.gouv.fr/affichCodeArticle.do?idArticle=LEGIARTI000033020364&cidTexte=LEGITEXT000006072050&dateTexte=20191231\">L3121-31</a> du Code du travail:\n",
       "    mais toutefois cela contredit l'article  L3187-1 du code de la sécurité sociale"
      ],
      "text/plain": [
       "<IPython.core.display.HTML object>"
      ]
     },
     "execution_count": 103,
     "metadata": {},
     "output_type": "execute_result"
    }
   ],
   "source": [
    "from IPython.display import HTML\n",
    "HTML(put_links(text))"
   ]
  },
  {
   "cell_type": "code",
   "execution_count": 15,
   "metadata": {
    "scrolled": false
   },
   "outputs": [
    {
     "data": {
      "text/plain": [
       "'r 122 jours minimum pour ouvrir des droits .\\n\\nVoir toute la réglementation\\xa0Unedic : www.unedic.org\\n\\net en\\xa0particulier la fiche 5 - page 80\\n\\nEXTRAIT : \\nCette condition n?est pas non plus opposable aux salariés qui ne justifient pas de 91 jours ou 455 heures de travail depuis la date de la dernière ouverture de droits ou la dernière date à laquelle les allocations leur ont été refusées.\\n\\nde même que le réglement Général Unedic\\xa0: www.unedic.org\\n\\nExtrait : e)\\xa0n\\'avoir pas quitté volontairement, sauf cas prévus par un accord d\\'application, leur dernière activité professionnelle salariée, ou une activité professionnelle salariée autre que la dernière dès lors que, depuis le départ volontaire, il ne peut être justifié d\\'une période d\\'affiliation d\\'au moins 91\\xa0jours ou d\\'une période de travail d\\'au moins 455\\xa0heures\\xa0;\\n\\nBonne lecture \\n SUITE MILOU\\n\\nEtant entendu que si votre CDD ne fait que 120 jours , Vous\\xa0pourrez bénéficier du chomage calculé sur la base des périodes d\\'affiliation des 28 derniers mois précédant le dernier jour travaillé\\xa0- c\\'est à dire en prenant\\xa0en compte l\\'emploi quitté (y compris le congé maternité qui est compté comme période d\\'affiliation) \\xa0+ le CDD repris.\\nIndemnisation limitée à 24 mois sur la base des salaires bruts perçus au cours des 12 dernbiers moins précédant le dernier jour travaillé (en écartant du calcul les mois en congé maternité) Donc c\\'est bon pour moi alors ?!Dans tous les cas, j\\'espère décrocher un CDI derrière mon CDD. Je suis d\\'ailleurs en train d\\'écrire ma lettre de démission et je ne sais pas si je dois juste mentionner l\\'article du code du travail permettant aux femmes en congé maternité de ne pas faire leur préavis ou également le changement de travail et de région de mon mari.Je ne sais pas non plus quand poster exactement cette lettre... Ils doivent l\\'avoir \\xa0 jours avant la fin de mon congé mais est-ce \\xa0jours ouvrés ? S\\'ils le recoivent 16 ou 17 jours avant, est-ce grave ?Merci pour vos infos!\\xa0 OUI - c\\'est tout bon pour vous\\n\\nIl vaut mieux envoyer votre lettre de démission dans les délais\\xa0et rappeler dans celle-ci les dispositions de l\\'article\\xa0L1225-66 En savoir plus sur cet article...\\n\\n\"Pour élever son enfant, le salarié peut, sous réserve d\\'en informer son employeur au moins quinze jours à l\\'avance, rompre son contrat de travail à l\\'issue du congé de maternité ou d\\'adoption ou, le cas échéant, deux mois après la naissance ou l\\'arrivée au foyer de l\\'enfant, sans être tenu de respecter le délai de préavis, ni de devoir de ce fait d\\'indemnité de rupture.\\xa0\"\\n, tout comme préciser que vous\\xa0avez déménagé pour suivre votre conjoint qui a trouvé du travail dans une autre région.\\n\\n SUITE MILOU\\n\\nVous pouvez envoyer votre lettre 3 semaines avant la fin du congé maternité - les 15 jours sont des jours\\xa0calendaires Merci beaucoup pour votre aide.Je vais la poster demain comme ça, elle partira jeudi ! Je croise les doigts pour que tour se passe bien \\xa0(préavis, paiements des CP (car il m\\'en reste pas mal), ...).\\xa0 Bonjour,\\xa0Mon employeur a reçu ma démission la semaine dernière et je n\\'ai toujours aucune nouvelle de sa part...Doit-il m\\'envoyer un courrier ou quelque chose ?Merci ! \\xa0 Aucune obligation pour l\\'employeur de vous répondre - OK, merci. J\\'aimerai bien quand même avoir des nouvelles. Comment savoir que je oui réellement quitter l\\'entreprise à la fin de mon congé mat ? \\xa0Ou même que la personne à qui j\\'ai adressé mon courrier l\\'ai bien lu (car ce n\\'est pas elle qui a signé l\\'accusé de réception)... Si l\\'on part du principe que le destinataire de la lettre a bien été été informé de votre démission , il importe peu d\\'avoir la confirmation écrite de celle-ci puisque l\\'employeur ne peut pas\\xa0la remettre en cause .\\n\\nVous pouvez toutefois , au terme du congé maternité\\xa0qui marque la fin de votre contrat de travail, faire un nouveau courrier pour demander qu\\'on vous envoie par courrier les documents de fin de contrat.\\n\\nSi l\\'employeur exige que vous veniez les chercher sur place, il sera bien obligé de vous écrire -\\n Ah je n\\'espère pas car c\\'est à Boulogne et je suis arrivée à Rennes (ce que j\\'ai précisé dans mon courrier) !Merci pour toutes ces infos !\\xa0 Bonjour,Savez-vous comment je peux savoir combien je vais toucher pour le paiement de mes CP non pris ? Y a t-il une formule ?Car, normalement, j\\'en ai 36 non pris...\\xa0Merci!\\xa0 Vous pouvez les calculer approximativement:\\n\\nTaux horaire brut X 7 X 36 = Indemnité globale brute à laquelle il faut retrancher 22% pour avoir le NET à payer Bonjour,Ma démission a normalemennt pris acte à la fin de la journée d\\'hier et je n\\'ai toujours pas de nouvelle de mon employeur (juste il y a 10 jour où je leur ai également envoyé ma démission par email et on m\\'a répondu qu\\'ils avaient bien reçu mon courrier) mais je n\\'ai pas eu mon reçu pour solde tout compte ni aucun autre document. Sous quel délai peuvent-ils me les envoyer ?Merci !\\xa0 Bonjour,\\n\\nSi vous avez convenu avec l\\'employeur qu\\'il vous envoie le solde de tout compte par la poste, vous devriez recevoir les documents dès maintenant mais ils sont\\xa0souvent transmis tardivement , quelquefois à la date habituelle du réglement des salaires , en fin de mois.;\\n\\nSi vous ne voyez rien venir, il faudra les relancer par E-Mail ou lettre LR/AR. . \\nBonjour,Meme si il n\\'existe pas de jurisprudence, le service public n\\'exclut la possibilité que l\\'ancien employeur duquel vous avez demissioner pour elever votre enfant, vous poursuive si il apprend que vous avez un nouvel emploi.Nou sommes dans la meme situation : ma conjointe a demissioné 15j avant sa fin de congé maternité, pour ne pas faire de préavis et garder notre enfnat car nous n\\'avions pas de creche.Elle a fini mi janvier, mais il se peut que nous ayons une place en creche courant fevrier elle aimerait donc reprendre un travail mais cela ne fera que 1 mois /1mois et demi depuis la demission et elle redoute une poursuite de son ancien employeur. Mais meme si elle \"patiente\" 3 mois qui aurait été le délai de préavis initial, comme il n\\'existe aucune jurisprudence, là encore il pourrait la poursuivre si il le veut.De votre côté tout s\\'est-il bien derouler ? Avez vous pu repredre un emploi sans que l\\'ancien ne vous poursuive ? Et suite au CDD avez-vous pu prétendre aux allocations chomages ARE ?  \\n\\nBonjour,\\nMeme si il n\\'existe pas de jurisprudence, le service public n\\'exclut la possibilité que l\\'ancien employeur duquel vous avez demissioner pour elever votre enfant, vous poursuive si il apprend que vous avez un nouvel emploi (réponse suite à l\\'appel à service public ce jour)\\xa0\\nNou sommes dans la meme situation : ma conjointe a demissioné 15j avant sa fin de congé maternité, pour ne pas faire de préavis et garder notre enfnat car nous n\\'avions pas de creche.\\nElle a fini mi janvier, mais il se peut que nous ayons une place en creche courant fevrier elle aimerait donc reprendre un travail mais cela ne fera que 1 mois /1mois et demi depuis la demission et elle redoute une poursuite de son ancien employeur.\\xa0\\nMais meme si elle \"patiente\" 3 mois qui aurait été le délai de préavis initial, comme il n\\'existe aucune jurisprudence, là encore il pourrait la poursuivre si il le veut.\\n\\nDe votre côté tout s\\'est-il bien derouler ? Avez vous pu repredre un emploi sans que l\\'ancien ne vous poursuive ? Et suite au CDD avez-vous pu prétendre aux allocations chomages ARE ?\\n\\n  \\nBonjour,Oui tout s\\'est bien passé. J\\'ai démissionné 15 jours avant la fin de congé mater et sur ma fiche assedics, mon ancien employeur a noté que j\\'avais ma période de préavis (3 mois à la base). j\\'ai retravaillé 10 jours après la fin de mon congé maternité et ça n\\'a causé aucun soucis à \\xa0mon ancien employeur. En fait, il n\\'y a aucune qui raison de nous poursuivre pour ça. Ca ne leur donnerait rien... J\\'ai été embauchée en cdi à la fin de mon cdd donc je ne peux pas vous répondre de source sûre mais normalement, j\\'aurai eu le droit aux indemnités chômage.Dans ma lettre de démission, je n\\'avais pas précisé que c\\'était \"pour élever mon enfant\" mais j\\'avais vu cité la loi qui permet aux femmesen congé maternité de ne pas effectuer de préavis.\\xa0  Bonjour,\\xa0je souhaite faire comme jstg24 mais j\\'ai peur que mon employeur me poursuive.mon conges maternite se termine fin aout et je souhaite demissionner pour consacrer plus de temps à mon fils et trouver un poste plus proche de mon domicile (actuellement je fais 110 kms par jr a/r)\\xa0J\\'ai normalement un préavis de 3 mois et je souhaite utiliser la demission \"pour elever un enfant\" afin de ne pas avoir a faire le preavis, toutefois je ne trouve pas de délai entre la demission et la reprise d\\'un autre travail.Pouvez vous m\\'aider SVP ?car j\\'ai peur d\\'accepter un travail proche de chez moi juste apres ma demission et que mon ancien employeur me mette au prud\\'hommesMERCI A TOUS\\xa0 Bonjour,\\n\\nVous ne trouverez pas de réponse juridique à la question posée puisque\\xa0si les textes (code du travail) se bornent à dire qu\\'une jeune maman peut démissionner pour élever son enfant sans avoir de préavis à effectuer\\xa0.\\n\\nPerso, je n\\'ai jamais\\xa0entendu parler de poursuites de la part de\\xa0l\\'employeur (via les prud\\'hommes)\\xa0\\xa0si la maman\\xa0reprend\\xa0\\xa0immédiatement un emploi\\xa0à la suite\\xa0du congé maternité.\\n\\nIl va s\\'en dire que les employeurs ont d\\'autres chats à foueter !\\xa0 et à moins de tomber sur un \"revenchard\" , il faudra qu\\'il démontre devant les juges \\xa0que cet engagement (élever son enfant) est pris pendant x mois et est irrévocable - ce qui est impossible puisque les textes sont muets sur la question.\\n\\nDe plus , la distance qui vous sépare de votre lieu de travail ne peut que conduire les juges à interprêter les textes en votre faveur\\xa0\\xa0\\xa0\\n\\nJe pense que ceux-ci visaient\\xa0plutot à libérer légalement \\xa0la jeune maman de la contrainte du préavis\\xa0de démission pour lui permettre de s\\'organiser au mieux pour faire face aux\\xa0taches nouvelles auxquelles elle est confrontée.\\n\\xa0\\''"
      ]
     },
     "execution_count": 15,
     "metadata": {},
     "output_type": "execute_result"
    }
   ],
   "source": [
    "text[4275:]"
   ]
  },
  {
   "cell_type": "code",
   "execution_count": 94,
   "metadata": {},
   "outputs": [],
   "source": [
    "articles_references, positions = find_articles_code(text)"
   ]
  },
  {
   "cell_type": "code",
   "execution_count": 73,
   "metadata": {},
   "outputs": [],
   "source": [
    "res = find_articles_position(text)"
   ]
  },
  {
   "cell_type": "code",
   "execution_count": 117,
   "metadata": {},
   "outputs": [
    {
     "data": {
      "text/plain": [
       "[('R5424-2', {'code du travail'}),\n",
       " ('R5424-2', {'code du travail'}),\n",
       " ('L5422-2', set()),\n",
       " ('L5424-1', set()),\n",
       " ('L5312-1', set()),\n",
       " ('L5427-1', set()),\n",
       " ('L5424-1', set())]"
      ]
     },
     "execution_count": 117,
     "metadata": {},
     "output_type": "execute_result"
    }
   ],
   "source": [
    "articles_references"
   ]
  },
  {
   "cell_type": "code",
   "execution_count": 95,
   "metadata": {},
   "outputs": [
    {
     "data": {
      "text/plain": [
       "[('R5424-2', {'code du travail'}),\n",
       " ('R5424-2', {'code du travail'}),\n",
       " ('L5422-2', set()),\n",
       " ('L5424-1', set()),\n",
       " ('L5312-1', set()),\n",
       " ('L5427-1', set()),\n",
       " ('L5424-1', set())]"
      ]
     },
     "execution_count": 95,
     "metadata": {},
     "output_type": "execute_result"
    }
   ],
   "source": [
    "articles_references"
   ]
  },
  {
   "cell_type": "code",
   "execution_count": 97,
   "metadata": {
    "collapsed": true
   },
   "outputs": [],
   "source": [
    "t = \"abc\""
   ]
  },
  {
   "cell_type": "code",
   "execution_count": 100,
   "metadata": {},
   "outputs": [
    {
     "ename": "TypeError",
     "evalue": "'str' object does not support item assignment",
     "output_type": "error",
     "traceback": [
      "\u001b[0;31m---------------------------------------------------------------------------\u001b[0m",
      "\u001b[0;31mTypeError\u001b[0m                                 Traceback (most recent call last)",
      "\u001b[0;32m<ipython-input-100-fd3c2cb47d25>\u001b[0m in \u001b[0;36m<module>\u001b[0;34m()\u001b[0m\n\u001b[0;32m----> 1\u001b[0;31m \u001b[0mt\u001b[0m\u001b[0;34m[\u001b[0m\u001b[0;36m1\u001b[0m\u001b[0;34m:\u001b[0m\u001b[0;36m2\u001b[0m\u001b[0;34m]\u001b[0m \u001b[0;34m=\u001b[0m \u001b[0;34m\"aer\"\u001b[0m\u001b[0;34m\u001b[0m\u001b[0m\n\u001b[0m",
      "\u001b[0;31mTypeError\u001b[0m: 'str' object does not support item assignment"
     ]
    }
   ],
   "source": [
    "t[1:2] = \"aer\""
   ]
  },
  {
   "cell_type": "code",
   "execution_count": 111,
   "metadata": {},
   "outputs": [
    {
     "data": {
      "text/plain": [
       "'<a href=\"url\">yo</a>'"
      ]
     },
     "execution_count": 111,
     "metadata": {},
     "output_type": "execute_result"
    }
   ],
   "source": [
    "link_text = \"yo\"\n",
    "url = \"url\"\n",
    "make_href_mark(url, link_text)"
   ]
  },
  {
   "cell_type": "code",
   "execution_count": 109,
   "metadata": {},
   "outputs": [],
   "source": [
    "re"
   ]
  },
  {
   "cell_type": "code",
   "execution_count": 1,
   "metadata": {},
   "outputs": [],
   "source": [
    "%load_ext autoreload\n",
    "%autoreload 2"
   ]
  },
  {
   "cell_type": "code",
   "execution_count": 2,
   "metadata": {
    "collapsed": true
   },
   "outputs": [],
   "source": [
    "from sequellecode import SequellText\n",
    "st = SequellText(\"../data/mapping-articles-cdtn.json\")"
   ]
  },
  {
   "cell_type": "code",
   "execution_count": 14,
   "metadata": {},
   "outputs": [
    {
     "name": "stdout",
     "output_type": "stream",
     "text": [
      "article menntion not found\n"
     ]
    },
    {
     "ename": "TypeError",
     "evalue": "argument of type 'NoneType' is not iterable",
     "output_type": "error",
     "traceback": [
      "\u001b[0;31m---------------------------------------------------------------------------\u001b[0m",
      "\u001b[0;31mTypeError\u001b[0m                                 Traceback (most recent call last)",
      "\u001b[0;32m<ipython-input-14-649eb7798aa0>\u001b[0m in \u001b[0;36m<module>\u001b[0;34m()\u001b[0m\n\u001b[0;32m----> 1\u001b[0;31m \u001b[0mst\u001b[0m\u001b[0;34m.\u001b[0m\u001b[0mput_links\u001b[0m\u001b[0;34m(\u001b[0m\u001b[0;34m\"L1121-1\"\u001b[0m\u001b[0;34m)\u001b[0m\u001b[0;34m\u001b[0m\u001b[0m\n\u001b[0m",
      "\u001b[0;32m~/anaconda3/lib/python3.6/site-packages/sequellecode/sequellecode.py\u001b[0m in \u001b[0;36mput_links\u001b[0;34m(self, text, code_strings)\u001b[0m\n\u001b[1;32m     11\u001b[0m \u001b[0;34m\u001b[0m\u001b[0m\n\u001b[1;32m     12\u001b[0m     \u001b[0;32mdef\u001b[0m \u001b[0mput_links\u001b[0m\u001b[0;34m(\u001b[0m\u001b[0mself\u001b[0m\u001b[0;34m,\u001b[0m \u001b[0mtext\u001b[0m\u001b[0;34m,\u001b[0m \u001b[0mcode_strings\u001b[0m \u001b[0;34m=\u001b[0m \u001b[0;34m[\u001b[0m\u001b[0;34m\"code du travail\"\u001b[0m\u001b[0;34m]\u001b[0m\u001b[0;34m)\u001b[0m\u001b[0;34m:\u001b[0m\u001b[0;34m\u001b[0m\u001b[0m\n\u001b[0;32m---> 13\u001b[0;31m         \u001b[0marticles_normalized\u001b[0m\u001b[0;34m,\u001b[0m \u001b[0;34m(\u001b[0m\u001b[0marticles\u001b[0m\u001b[0;34m,\u001b[0m \u001b[0mpositions\u001b[0m\u001b[0;34m)\u001b[0m \u001b[0;34m=\u001b[0m \u001b[0mfind_articles_code\u001b[0m\u001b[0;34m(\u001b[0m\u001b[0mtext\u001b[0m\u001b[0;34m,\u001b[0m \u001b[0mcode_strings\u001b[0m\u001b[0;34m)\u001b[0m\u001b[0;34m\u001b[0m\u001b[0m\n\u001b[0m\u001b[1;32m     14\u001b[0m         \u001b[0;32mif\u001b[0m \u001b[0;32mnot\u001b[0m \u001b[0marticles_normalized\u001b[0m\u001b[0;34m:\u001b[0m\u001b[0;34m\u001b[0m\u001b[0m\n\u001b[1;32m     15\u001b[0m             \u001b[0;32mreturn\u001b[0m \u001b[0mtext\u001b[0m\u001b[0;34m\u001b[0m\u001b[0m\n",
      "\u001b[0;32m~/anaconda3/lib/python3.6/site-packages/sequellecode/utils.py\u001b[0m in \u001b[0;36mfind_articles_code\u001b[0;34m(text, code_strings)\u001b[0m\n\u001b[1;32m     41\u001b[0m     \u001b[0mcontextes\u001b[0m \u001b[0;34m=\u001b[0m \u001b[0;34m[\u001b[0m\u001b[0mfind_context\u001b[0m\u001b[0;34m(\u001b[0m\u001b[0mtext\u001b[0m\u001b[0;34m,\u001b[0m \u001b[0mart\u001b[0m\u001b[0;34m)\u001b[0m \u001b[0;32mfor\u001b[0m \u001b[0mart\u001b[0m \u001b[0;32min\u001b[0m \u001b[0marticles\u001b[0m\u001b[0;34m]\u001b[0m\u001b[0;34m\u001b[0m\u001b[0m\n\u001b[1;32m     42\u001b[0m     \u001b[0;32massert\u001b[0m \u001b[0mlen\u001b[0m\u001b[0;34m(\u001b[0m\u001b[0marticles\u001b[0m\u001b[0;34m)\u001b[0m \u001b[0;34m==\u001b[0m \u001b[0mlen\u001b[0m\u001b[0;34m(\u001b[0m\u001b[0mcontextes\u001b[0m\u001b[0;34m)\u001b[0m\u001b[0;34m,\u001b[0m \u001b[0;34m\"problem in function find_context\"\u001b[0m\u001b[0;34m\u001b[0m\u001b[0m\n\u001b[0;32m---> 43\u001b[0;31m     \u001b[0mcodes\u001b[0m \u001b[0;34m=\u001b[0m \u001b[0;34m[\u001b[0m\u001b[0mdetect_code\u001b[0m\u001b[0;34m(\u001b[0m\u001b[0mcontext\u001b[0m\u001b[0;34m,\u001b[0m \u001b[0mcode_strings\u001b[0m\u001b[0;34m)\u001b[0m \u001b[0;32mfor\u001b[0m \u001b[0mcontext\u001b[0m \u001b[0;32min\u001b[0m \u001b[0mcontextes\u001b[0m\u001b[0;34m]\u001b[0m\u001b[0;34m\u001b[0m\u001b[0m\n\u001b[0m\u001b[1;32m     44\u001b[0m     \u001b[0marticles_normalized\u001b[0m \u001b[0;34m=\u001b[0m \u001b[0;34m[\u001b[0m\u001b[0mnormalize_digit\u001b[0m\u001b[0;34m(\u001b[0m\u001b[0mart\u001b[0m\u001b[0;34m)\u001b[0m \u001b[0;32mfor\u001b[0m \u001b[0mart\u001b[0m \u001b[0;32min\u001b[0m \u001b[0marticles\u001b[0m\u001b[0;34m]\u001b[0m\u001b[0;34m\u001b[0m\u001b[0m\n\u001b[1;32m     45\u001b[0m \u001b[0;34m\u001b[0m\u001b[0m\n",
      "\u001b[0;32m~/anaconda3/lib/python3.6/site-packages/sequellecode/utils.py\u001b[0m in \u001b[0;36m<listcomp>\u001b[0;34m(.0)\u001b[0m\n\u001b[1;32m     41\u001b[0m     \u001b[0mcontextes\u001b[0m \u001b[0;34m=\u001b[0m \u001b[0;34m[\u001b[0m\u001b[0mfind_context\u001b[0m\u001b[0;34m(\u001b[0m\u001b[0mtext\u001b[0m\u001b[0;34m,\u001b[0m \u001b[0mart\u001b[0m\u001b[0;34m)\u001b[0m \u001b[0;32mfor\u001b[0m \u001b[0mart\u001b[0m \u001b[0;32min\u001b[0m \u001b[0marticles\u001b[0m\u001b[0;34m]\u001b[0m\u001b[0;34m\u001b[0m\u001b[0m\n\u001b[1;32m     42\u001b[0m     \u001b[0;32massert\u001b[0m \u001b[0mlen\u001b[0m\u001b[0;34m(\u001b[0m\u001b[0marticles\u001b[0m\u001b[0;34m)\u001b[0m \u001b[0;34m==\u001b[0m \u001b[0mlen\u001b[0m\u001b[0;34m(\u001b[0m\u001b[0mcontextes\u001b[0m\u001b[0;34m)\u001b[0m\u001b[0;34m,\u001b[0m \u001b[0;34m\"problem in function find_context\"\u001b[0m\u001b[0;34m\u001b[0m\u001b[0m\n\u001b[0;32m---> 43\u001b[0;31m     \u001b[0mcodes\u001b[0m \u001b[0;34m=\u001b[0m \u001b[0;34m[\u001b[0m\u001b[0mdetect_code\u001b[0m\u001b[0;34m(\u001b[0m\u001b[0mcontext\u001b[0m\u001b[0;34m,\u001b[0m \u001b[0mcode_strings\u001b[0m\u001b[0;34m)\u001b[0m \u001b[0;32mfor\u001b[0m \u001b[0mcontext\u001b[0m \u001b[0;32min\u001b[0m \u001b[0mcontextes\u001b[0m\u001b[0;34m]\u001b[0m\u001b[0;34m\u001b[0m\u001b[0m\n\u001b[0m\u001b[1;32m     44\u001b[0m     \u001b[0marticles_normalized\u001b[0m \u001b[0;34m=\u001b[0m \u001b[0;34m[\u001b[0m\u001b[0mnormalize_digit\u001b[0m\u001b[0;34m(\u001b[0m\u001b[0mart\u001b[0m\u001b[0;34m)\u001b[0m \u001b[0;32mfor\u001b[0m \u001b[0mart\u001b[0m \u001b[0;32min\u001b[0m \u001b[0marticles\u001b[0m\u001b[0;34m]\u001b[0m\u001b[0;34m\u001b[0m\u001b[0m\n\u001b[1;32m     45\u001b[0m \u001b[0;34m\u001b[0m\u001b[0m\n",
      "\u001b[0;32m~/anaconda3/lib/python3.6/site-packages/sequellecode/utils.py\u001b[0m in \u001b[0;36mdetect_code\u001b[0;34m(context, code_strings)\u001b[0m\n\u001b[1;32m     32\u001b[0m \u001b[0;32mdef\u001b[0m \u001b[0mdetect_code\u001b[0m\u001b[0;34m(\u001b[0m\u001b[0mcontext\u001b[0m\u001b[0;34m,\u001b[0m \u001b[0mcode_strings\u001b[0m\u001b[0;34m)\u001b[0m\u001b[0;34m:\u001b[0m\u001b[0;34m\u001b[0m\u001b[0m\n\u001b[1;32m     33\u001b[0m     \u001b[0;34m\"\"\"detect in the given surrounding context a code reference\"\"\"\u001b[0m\u001b[0;34m\u001b[0m\u001b[0m\n\u001b[0;32m---> 34\u001b[0;31m     \u001b[0;32mreturn\u001b[0m \u001b[0mset\u001b[0m\u001b[0;34m(\u001b[0m\u001b[0mcode\u001b[0m \u001b[0;32mfor\u001b[0m \u001b[0mcode\u001b[0m \u001b[0;32min\u001b[0m \u001b[0mcode_strings\u001b[0m \u001b[0;32mif\u001b[0m \u001b[0mcode\u001b[0m \u001b[0;32min\u001b[0m \u001b[0mcontext\u001b[0m\u001b[0;34m)\u001b[0m\u001b[0;34m\u001b[0m\u001b[0m\n\u001b[0m\u001b[1;32m     35\u001b[0m \u001b[0;34m\u001b[0m\u001b[0m\n\u001b[1;32m     36\u001b[0m \u001b[0;32mdef\u001b[0m \u001b[0mfind_articles_code\u001b[0m\u001b[0;34m(\u001b[0m\u001b[0mtext\u001b[0m\u001b[0;34m,\u001b[0m \u001b[0mcode_strings\u001b[0m \u001b[0;34m=\u001b[0m \u001b[0;34m[\u001b[0m\u001b[0;34m\"code du travail\"\u001b[0m\u001b[0;34m]\u001b[0m\u001b[0;34m)\u001b[0m\u001b[0;34m:\u001b[0m\u001b[0;34m\u001b[0m\u001b[0m\n",
      "\u001b[0;32m~/anaconda3/lib/python3.6/site-packages/sequellecode/utils.py\u001b[0m in \u001b[0;36m<genexpr>\u001b[0;34m(.0)\u001b[0m\n\u001b[1;32m     32\u001b[0m \u001b[0;32mdef\u001b[0m \u001b[0mdetect_code\u001b[0m\u001b[0;34m(\u001b[0m\u001b[0mcontext\u001b[0m\u001b[0;34m,\u001b[0m \u001b[0mcode_strings\u001b[0m\u001b[0;34m)\u001b[0m\u001b[0;34m:\u001b[0m\u001b[0;34m\u001b[0m\u001b[0m\n\u001b[1;32m     33\u001b[0m     \u001b[0;34m\"\"\"detect in the given surrounding context a code reference\"\"\"\u001b[0m\u001b[0;34m\u001b[0m\u001b[0m\n\u001b[0;32m---> 34\u001b[0;31m     \u001b[0;32mreturn\u001b[0m \u001b[0mset\u001b[0m\u001b[0;34m(\u001b[0m\u001b[0mcode\u001b[0m \u001b[0;32mfor\u001b[0m \u001b[0mcode\u001b[0m \u001b[0;32min\u001b[0m \u001b[0mcode_strings\u001b[0m \u001b[0;32mif\u001b[0m \u001b[0mcode\u001b[0m \u001b[0;32min\u001b[0m \u001b[0mcontext\u001b[0m\u001b[0;34m)\u001b[0m\u001b[0;34m\u001b[0m\u001b[0m\n\u001b[0m\u001b[1;32m     35\u001b[0m \u001b[0;34m\u001b[0m\u001b[0m\n\u001b[1;32m     36\u001b[0m \u001b[0;32mdef\u001b[0m \u001b[0mfind_articles_code\u001b[0m\u001b[0;34m(\u001b[0m\u001b[0mtext\u001b[0m\u001b[0;34m,\u001b[0m \u001b[0mcode_strings\u001b[0m \u001b[0;34m=\u001b[0m \u001b[0;34m[\u001b[0m\u001b[0;34m\"code du travail\"\u001b[0m\u001b[0;34m]\u001b[0m\u001b[0;34m)\u001b[0m\u001b[0;34m:\u001b[0m\u001b[0;34m\u001b[0m\u001b[0m\n",
      "\u001b[0;31mTypeError\u001b[0m: argument of type 'NoneType' is not iterable"
     ]
    }
   ],
   "source": [
    "st.put_links(\"L1121-1\")"
   ]
  },
  {
   "cell_type": "code",
   "execution_count": 23,
   "metadata": {},
   "outputs": [
    {
     "data": {
      "text/plain": [
       "[('a', 'a')]"
      ]
     },
     "execution_count": 23,
     "metadata": {},
     "output_type": "execute_result"
    }
   ],
   "source": [
    "list(zip(*[['a', \"b\"], ['a',]]))"
   ]
  },
  {
   "cell_type": "code",
   "execution_count": 11,
   "metadata": {},
   "outputs": [
    {
     "data": {
      "text/plain": [
       "'LEGIARTI000006900785'"
      ]
     },
     "execution_count": 11,
     "metadata": {},
     "output_type": "execute_result"
    }
   ],
   "source": [
    "code_json[\"L1121-1\"]"
   ]
  },
  {
   "cell_type": "code",
   "execution_count": 4,
   "metadata": {},
   "outputs": [
    {
     "ename": "TypeError",
     "evalue": "'builtin_function_or_method' object is not iterable",
     "output_type": "error",
     "traceback": [
      "\u001b[0;31m---------------------------------------------------------------------------\u001b[0m",
      "\u001b[0;31mTypeError\u001b[0m                                 Traceback (most recent call last)",
      "\u001b[0;32m<ipython-input-4-939e4d862ac1>\u001b[0m in \u001b[0;36m<module>\u001b[0;34m()\u001b[0m\n\u001b[0;32m----> 1\u001b[0;31m \u001b[0mlist\u001b[0m\u001b[0;34m(\u001b[0m\u001b[0miter\u001b[0m\u001b[0;34m)\u001b[0m\u001b[0;34m\u001b[0m\u001b[0m\n\u001b[0m",
      "\u001b[0;31mTypeError\u001b[0m: 'builtin_function_or_method' object is not iterable"
     ]
    }
   ],
   "source": [
    "list(iter)"
   ]
  },
  {
   "cell_type": "code",
   "execution_count": 8,
   "metadata": {
    "collapsed": true
   },
   "outputs": [],
   "source": [
    "import re"
   ]
  },
  {
   "cell_type": "code",
   "execution_count": 15,
   "metadata": {},
   "outputs": [],
   "source": [
    "regex_article = re.compile(r\"((?:R|L|D|l|r|d)(?:\\s|\\.|\\.\\s)?\\d{3,4}(?:-\\d{1,2})?(?:-\\d{1,2})?)\")\n",
    "v = re.finditer( regex_article, \"L1121-1\")"
   ]
  },
  {
   "cell_type": "code",
   "execution_count": 16,
   "metadata": {},
   "outputs": [
    {
     "data": {
      "text/plain": [
       "[<_sre.SRE_Match object; span=(0, 7), match='L1121-1'>]"
      ]
     },
     "execution_count": 16,
     "metadata": {},
     "output_type": "execute_result"
    }
   ],
   "source": [
    "list(v)"
   ]
  },
  {
   "cell_type": "code",
   "execution_count": 7,
   "metadata": {},
   "outputs": [
    {
     "data": {
      "text/plain": [
       "[]"
      ]
     },
     "execution_count": 7,
     "metadata": {},
     "output_type": "execute_result"
    }
   ],
   "source": [
    "list(v)"
   ]
  },
  {
   "cell_type": "code",
   "execution_count": 31,
   "metadata": {},
   "outputs": [],
   "source": [
    "def find_context(text, article):\n",
    "    \"\"\"check for a given article the surrounding text and try to find some reference to codes\"\"\"\n",
    "    before = r\"(?P<before>.{1,80})?\"\n",
    "    after = r\"(?P<after>.{1,80})?\"\n",
    "    regex_article = before + article + after\n",
    "    regex_article = re.compile(regex_article)\n",
    "    context_list = re.findall(regex_article, text)\n",
    "\n",
    "    if context_list:\n",
    "        context = \" \".join(context_list[0]).lower()\n",
    "        return context\n",
    "    else:\n",
    "        print(\"yolo\")"
   ]
  },
  {
   "cell_type": "code",
   "execution_count": 33,
   "metadata": {},
   "outputs": [
    {
     "data": {
      "text/plain": [
       "' '"
      ]
     },
     "execution_count": 33,
     "metadata": {},
     "output_type": "execute_result"
    }
   ],
   "source": [
    "find_context(\"L1121-1\", \"L1121-1\")"
   ]
  },
  {
   "cell_type": "code",
   "execution_count": 1,
   "metadata": {},
   "outputs": [],
   "source": [
    "from juritagger.juritagger import JuriMatcher"
   ]
  },
  {
   "cell_type": "code",
   "execution_count": 2,
   "metadata": {},
   "outputs": [],
   "source": [
    "opts = {\n",
    "        \"spacy_model\" : \"fr_core_news_md\"\n",
    "        }\n",
    "jm = JuriMatcher(**opts)"
   ]
  },
  {
   "cell_type": "code",
   "execution_count": 4,
   "metadata": {
    "collapsed": true
   },
   "outputs": [
    {
     "ename": "ValueError",
     "evalue": "[E098] Trying to set conflicting doc.ents: '(3, 4, 'PERS')' and '(3, 4, 'PERS')'. A token can only be part of one entity, so make sure the entities you're setting don't overlap.",
     "output_type": "error",
     "traceback": [
      "\u001b[0;31m---------------------------------------------------------------------------\u001b[0m",
      "\u001b[0;31mValueError\u001b[0m                                Traceback (most recent call last)",
      "\u001b[0;32m<ipython-input-4-52da9f29fbfd>\u001b[0m in \u001b[0;36m<module>\u001b[0;34m()\u001b[0m\n\u001b[1;32m      2\u001b[0m de l'entreprise et du nombre de jours de congés JUR acquis par le salarié.\"\"\"\n\u001b[1;32m      3\u001b[0m \u001b[0;34m\u001b[0m\u001b[0m\n\u001b[0;32m----> 4\u001b[0;31m \u001b[0mmatches\u001b[0m\u001b[0;34m,\u001b[0m \u001b[0mdoc\u001b[0m \u001b[0;34m=\u001b[0m \u001b[0mjm\u001b[0m\u001b[0;34m.\u001b[0m\u001b[0mtag_doc\u001b[0m\u001b[0;34m(\u001b[0m\u001b[0mtext\u001b[0m\u001b[0;34m,\u001b[0m \u001b[0mmode\u001b[0m \u001b[0;34m=\u001b[0m \u001b[0;34m\"class\"\u001b[0m\u001b[0;34m)\u001b[0m\u001b[0;34m\u001b[0m\u001b[0m\n\u001b[0m\u001b[1;32m      5\u001b[0m \u001b[0mmatches\u001b[0m\u001b[0;34m\u001b[0m\u001b[0m\n",
      "\u001b[0;32m~/anaconda3/lib/python3.6/site-packages/juritagger/juritagger.py\u001b[0m in \u001b[0;36mtag_doc\u001b[0;34m(self, doc, mode)\u001b[0m\n\u001b[1;32m     83\u001b[0m             \u001b[0mself\u001b[0m\u001b[0;34m.\u001b[0m\u001b[0mentity_types\u001b[0m \u001b[0;34m=\u001b[0m \u001b[0;34m[\u001b[0m\u001b[0;34m\"JUR\"\u001b[0m\u001b[0;34m]\u001b[0m\u001b[0;34m\u001b[0m\u001b[0m\n\u001b[1;32m     84\u001b[0m         \u001b[0;32melif\u001b[0m \u001b[0mmode\u001b[0m \u001b[0;34m==\u001b[0m \u001b[0;34m\"class\"\u001b[0m\u001b[0;34m:\u001b[0m\u001b[0;34m\u001b[0m\u001b[0m\n\u001b[0;32m---> 85\u001b[0;31m             \u001b[0mmatches\u001b[0m \u001b[0;34m=\u001b[0m \u001b[0mself\u001b[0m\u001b[0;34m.\u001b[0m\u001b[0mclassif_matcher\u001b[0m\u001b[0;34m(\u001b[0m\u001b[0mdoc\u001b[0m\u001b[0;34m)\u001b[0m\u001b[0;34m\u001b[0m\u001b[0m\n\u001b[0m\u001b[1;32m     86\u001b[0m \u001b[0;34m\u001b[0m\u001b[0m\n\u001b[1;32m     87\u001b[0m         \u001b[0;31m# self._tag2ents(matches)\u001b[0m\u001b[0;34m\u001b[0m\u001b[0;34m\u001b[0m\u001b[0m\n",
      "\u001b[0;32mmatcher.pyx\u001b[0m in \u001b[0;36mspacy.matcher.Matcher.__call__\u001b[0;34m()\u001b[0m\n",
      "\u001b[0;32m~/anaconda3/lib/python3.6/site-packages/juritagger/juritagger.py\u001b[0m in \u001b[0;36m_add_event_ent\u001b[0;34m(self, matcher, doc, i, matches)\u001b[0m\n\u001b[1;32m     53\u001b[0m         \u001b[0mmatch_id\u001b[0m\u001b[0;34m,\u001b[0m \u001b[0mstart\u001b[0m\u001b[0;34m,\u001b[0m \u001b[0mend\u001b[0m \u001b[0;34m=\u001b[0m \u001b[0mmatches\u001b[0m\u001b[0;34m[\u001b[0m\u001b[0mi\u001b[0m\u001b[0;34m]\u001b[0m\u001b[0;34m\u001b[0m\u001b[0m\n\u001b[1;32m     54\u001b[0m         \u001b[0mentity\u001b[0m \u001b[0;34m=\u001b[0m \u001b[0;34m(\u001b[0m\u001b[0mmatch_id\u001b[0m\u001b[0;34m,\u001b[0m \u001b[0mstart\u001b[0m\u001b[0;34m,\u001b[0m \u001b[0mend\u001b[0m\u001b[0;34m)\u001b[0m\u001b[0;34m\u001b[0m\u001b[0m\n\u001b[0;32m---> 55\u001b[0;31m         \u001b[0mdoc\u001b[0m\u001b[0;34m.\u001b[0m\u001b[0ments\u001b[0m \u001b[0;34m+=\u001b[0m \u001b[0;34m(\u001b[0m\u001b[0mentity\u001b[0m\u001b[0;34m,\u001b[0m\u001b[0;34m)\u001b[0m\u001b[0;34m\u001b[0m\u001b[0m\n\u001b[0m\u001b[1;32m     56\u001b[0m \u001b[0;34m\u001b[0m\u001b[0m\n\u001b[1;32m     57\u001b[0m     \u001b[0;32mdef\u001b[0m \u001b[0m_build_flat_matcher\u001b[0m\u001b[0;34m(\u001b[0m\u001b[0mself\u001b[0m\u001b[0;34m)\u001b[0m\u001b[0;34m:\u001b[0m\u001b[0;34m\u001b[0m\u001b[0m\n",
      "\u001b[0;32mdoc.pyx\u001b[0m in \u001b[0;36mspacy.tokens.doc.Doc.ents.__set__\u001b[0;34m()\u001b[0m\n",
      "\u001b[0;31mValueError\u001b[0m: [E098] Trying to set conflicting doc.ents: '(3, 4, 'PERS')' and '(3, 4, 'PERS')'. A token can only be part of one entity, so make sure the entities you're setting don't overlap."
     ]
    }
   ],
   "source": [
    "text = \"\"\"L'indemnisation du salarié dépend du nombre de jours de fermeture\n",
    "de l'entreprise et du nombre de jours de congés JUR acquis par le salarié.\"\"\"\n",
    "\n",
    "matches, doc = jm.tag_doc(text, mode = \"class\")\n",
    "matches"
   ]
  },
  {
   "cell_type": "code",
   "execution_count": 1,
   "metadata": {
    "collapsed": true
   },
   "outputs": [
    {
     "ename": "AttributeError",
     "evalue": "module 'cymem.cymem' has no attribute 'PyMalloc'",
     "output_type": "error",
     "traceback": [
      "\u001b[0;31m---------------------------------------------------------------------------\u001b[0m",
      "\u001b[0;31mAttributeError\u001b[0m                            Traceback (most recent call last)",
      "\u001b[0;32m<ipython-input-1-c080f6458562>\u001b[0m in \u001b[0;36m<module>\u001b[0;34m()\u001b[0m\n\u001b[0;32m----> 1\u001b[0;31m \u001b[0;32mimport\u001b[0m \u001b[0mspacy\u001b[0m\u001b[0;34m\u001b[0m\u001b[0m\n\u001b[0m",
      "\u001b[0;32m~/anaconda3/lib/python3.6/site-packages/spacy/__init__.py\u001b[0m in \u001b[0;36m<module>\u001b[0;34m()\u001b[0m\n\u001b[1;32m      6\u001b[0m \u001b[0;34m\u001b[0m\u001b[0m\n\u001b[1;32m      7\u001b[0m \u001b[0;31m# These are imported as part of the API\u001b[0m\u001b[0;34m\u001b[0m\u001b[0;34m\u001b[0m\u001b[0m\n\u001b[0;32m----> 8\u001b[0;31m \u001b[0;32mfrom\u001b[0m \u001b[0mthinc\u001b[0m\u001b[0;34m.\u001b[0m\u001b[0mneural\u001b[0m\u001b[0;34m.\u001b[0m\u001b[0mutil\u001b[0m \u001b[0;32mimport\u001b[0m \u001b[0mprefer_gpu\u001b[0m\u001b[0;34m,\u001b[0m \u001b[0mrequire_gpu\u001b[0m\u001b[0;34m\u001b[0m\u001b[0m\n\u001b[0m\u001b[1;32m      9\u001b[0m \u001b[0;34m\u001b[0m\u001b[0m\n\u001b[1;32m     10\u001b[0m \u001b[0;32mfrom\u001b[0m \u001b[0;34m.\u001b[0m\u001b[0mcli\u001b[0m\u001b[0;34m.\u001b[0m\u001b[0minfo\u001b[0m \u001b[0;32mimport\u001b[0m \u001b[0minfo\u001b[0m \u001b[0;32mas\u001b[0m \u001b[0mcli_info\u001b[0m\u001b[0;34m\u001b[0m\u001b[0m\n",
      "\u001b[0;32m~/anaconda3/lib/python3.6/site-packages/thinc/neural/__init__.py\u001b[0m in \u001b[0;36m<module>\u001b[0;34m()\u001b[0m\n\u001b[0;32m----> 1\u001b[0;31m \u001b[0;32mfrom\u001b[0m \u001b[0;34m.\u001b[0m\u001b[0m_classes\u001b[0m\u001b[0;34m.\u001b[0m\u001b[0mmodel\u001b[0m \u001b[0;32mimport\u001b[0m \u001b[0mModel\u001b[0m\u001b[0;34m\u001b[0m\u001b[0m\n\u001b[0m",
      "\u001b[0;32m~/anaconda3/lib/python3.6/site-packages/thinc/neural/_classes/model.py\u001b[0m in \u001b[0;36m<module>\u001b[0;34m()\u001b[0m\n\u001b[1;32m     10\u001b[0m \u001b[0;34m\u001b[0m\u001b[0m\n\u001b[1;32m     11\u001b[0m \u001b[0;32mfrom\u001b[0m \u001b[0;34m.\u001b[0m\u001b[0;34m.\u001b[0m \u001b[0;32mimport\u001b[0m \u001b[0mutil\u001b[0m\u001b[0;34m\u001b[0m\u001b[0m\n\u001b[0;32m---> 12\u001b[0;31m \u001b[0;32mfrom\u001b[0m \u001b[0;34m.\u001b[0m\u001b[0;34m.\u001b[0m\u001b[0mtrain\u001b[0m \u001b[0;32mimport\u001b[0m \u001b[0mTrainer\u001b[0m\u001b[0;34m\u001b[0m\u001b[0m\n\u001b[0m\u001b[1;32m     13\u001b[0m \u001b[0;32mfrom\u001b[0m \u001b[0;34m.\u001b[0m\u001b[0;34m.\u001b[0m\u001b[0mops\u001b[0m \u001b[0;32mimport\u001b[0m \u001b[0mNumpyOps\u001b[0m\u001b[0;34m,\u001b[0m \u001b[0mCupyOps\u001b[0m\u001b[0;34m\u001b[0m\u001b[0m\n\u001b[1;32m     14\u001b[0m \u001b[0;32mfrom\u001b[0m \u001b[0;34m.\u001b[0m\u001b[0;34m.\u001b[0m\u001b[0mmem\u001b[0m \u001b[0;32mimport\u001b[0m \u001b[0mMemory\u001b[0m\u001b[0;34m\u001b[0m\u001b[0m\n",
      "\u001b[0;32m~/anaconda3/lib/python3.6/site-packages/thinc/neural/train.py\u001b[0m in \u001b[0;36m<module>\u001b[0;34m()\u001b[0m\n\u001b[1;32m      1\u001b[0m \u001b[0;32mfrom\u001b[0m \u001b[0m__future__\u001b[0m \u001b[0;32mimport\u001b[0m \u001b[0municode_literals\u001b[0m\u001b[0;34m,\u001b[0m \u001b[0mprint_function\u001b[0m\u001b[0;34m\u001b[0m\u001b[0m\n\u001b[1;32m      2\u001b[0m \u001b[0;34m\u001b[0m\u001b[0m\n\u001b[0;32m----> 3\u001b[0;31m \u001b[0;32mfrom\u001b[0m \u001b[0;34m.\u001b[0m\u001b[0moptimizers\u001b[0m \u001b[0;32mimport\u001b[0m \u001b[0mAdam\u001b[0m\u001b[0;34m,\u001b[0m \u001b[0mSGD\u001b[0m\u001b[0;34m,\u001b[0m \u001b[0mlinear_decay\u001b[0m\u001b[0;34m\u001b[0m\u001b[0m\n\u001b[0m\u001b[1;32m      4\u001b[0m \u001b[0;32mfrom\u001b[0m \u001b[0;34m.\u001b[0m\u001b[0mutil\u001b[0m \u001b[0;32mimport\u001b[0m \u001b[0mminibatch\u001b[0m\u001b[0;34m\u001b[0m\u001b[0m\n\u001b[1;32m      5\u001b[0m \u001b[0;34m\u001b[0m\u001b[0m\n",
      "\u001b[0;32moptimizers.pyx\u001b[0m in \u001b[0;36minit thinc.neural.optimizers\u001b[0;34m()\u001b[0m\n",
      "\u001b[0;32mcymem.pxd\u001b[0m in \u001b[0;36minit thinc.neural.ops\u001b[0;34m()\u001b[0m\n",
      "\u001b[0;31mAttributeError\u001b[0m: module 'cymem.cymem' has no attribute 'PyMalloc'"
     ]
    }
   ],
   "source": [
    "import spacy"
   ]
  },
  {
   "cell_type": "code",
   "execution_count": 2,
   "metadata": {
    "collapsed": true
   },
   "outputs": [],
   "source": [
    "from sklearn.metrics import recall_score"
   ]
  },
  {
   "cell_type": "code",
   "execution_count": 3,
   "metadata": {
    "collapsed": true
   },
   "outputs": [],
   "source": [
    "recall_score?"
   ]
  },
  {
   "cell_type": "code",
   "execution_count": 4,
   "metadata": {
    "collapsed": true
   },
   "outputs": [],
   "source": [
    "\n",
    "def ranking_precision_score(y_true, y_score, k=10):\n",
    "    \"\"\"Precision at rank k\n",
    "    Parameters\n",
    "    ----------\n",
    "    y_true : array-like, shape = [n_samples]\n",
    "        Ground truth (true relevance labels).\n",
    "    y_score : array-like, shape = [n_samples]\n",
    "        Predicted scores.\n",
    "    k : int\n",
    "        Rank.\n",
    "    Returns\n",
    "    -------\n",
    "    precision @k : float\n",
    "    \"\"\"\n",
    "    unique_y = np.unique(y_true)\n",
    "\n",
    "    if len(unique_y) > 2:\n",
    "        raise ValueError(\"Only supported for two relevance levels.\")\n",
    "\n",
    "    pos_label = unique_y[1]\n",
    "    n_pos = np.sum(y_true == pos_label)\n",
    "\n",
    "    order = np.argsort(y_score)[::-1]\n",
    "    y_true = np.take(y_true, order[:k])\n",
    "    n_relevant = np.sum(y_true == pos_label)\n",
    "\n",
    "    # Divide by min(n_pos, k) such that the best achievable score is always 1.0.\n",
    "    return float(n_relevant) / min(n_pos, k)"
   ]
  },
  {
   "cell_type": "code",
   "execution_count": null,
   "metadata": {
    "collapsed": true
   },
   "outputs": [],
   "source": [
    "y_pred = [2, 3, 1, 0, 0]\n",
    "y_true = [1, 2, 1, 0, 0]"
   ]
  },
  {
   "cell_type": "code",
   "execution_count": 5,
   "metadata": {
    "collapsed": true
   },
   "outputs": [],
   "source": [
    "import pandas as pd"
   ]
  },
  {
   "cell_type": "code",
   "execution_count": 13,
   "metadata": {},
   "outputs": [],
   "source": [
    "a = pd.read_excel(\"/Users/armand/Downloads/partie_L_ancien_nouveau (1).xlsx\", sheetname=\"Sheet12\")"
   ]
  },
  {
   "cell_type": "code",
   "execution_count": 14,
   "metadata": {},
   "outputs": [
    {
     "data": {
      "text/html": [
       "<div>\n",
       "<style>\n",
       "    .dataframe thead tr:only-child th {\n",
       "        text-align: right;\n",
       "    }\n",
       "\n",
       "    .dataframe thead th {\n",
       "        text-align: left;\n",
       "    }\n",
       "\n",
       "    .dataframe tbody tr th {\n",
       "        vertical-align: top;\n",
       "    }\n",
       "</style>\n",
       "<table border=\"1\" class=\"dataframe\">\n",
       "  <thead>\n",
       "    <tr style=\"text-align: right;\">\n",
       "      <th></th>\n",
       "      <th>Texte</th>\n",
       "      <th>Ancienne référence</th>\n",
       "      <th>Nouvelle</th>\n",
       "    </tr>\n",
       "  </thead>\n",
       "  <tbody>\n",
       "    <tr>\n",
       "      <th>0</th>\n",
       "      <td>NaN</td>\n",
       "      <td>NaN</td>\n",
       "      <td>référence</td>\n",
       "    </tr>\n",
       "    <tr>\n",
       "      <th>1</th>\n",
       "      <td>NaN</td>\n",
       "      <td>art. L. 122-14-8</td>\n",
       "      <td>L. 1231-5</td>\n",
       "    </tr>\n",
       "    <tr>\n",
       "      <th>2</th>\n",
       "      <td>NaN</td>\n",
       "      <td>art. L. 122-14-9</td>\n",
       "      <td>non repris</td>\n",
       "    </tr>\n",
       "    <tr>\n",
       "      <th>3</th>\n",
       "      <td>NaN</td>\n",
       "      <td>art. L. 122-14-10</td>\n",
       "      <td>non repris</td>\n",
       "    </tr>\n",
       "    <tr>\n",
       "      <th>4</th>\n",
       "      <td>NaN</td>\n",
       "      <td>art. L. 122-14-11</td>\n",
       "      <td>L. 1237-1</td>\n",
       "    </tr>\n",
       "    <tr>\n",
       "      <th>5</th>\n",
       "      <td>NaN</td>\n",
       "      <td>art. L. 122-14-11</td>\n",
       "      <td>L. 1224-4</td>\n",
       "    </tr>\n",
       "    <tr>\n",
       "      <th>6</th>\n",
       "      <td>NaN</td>\n",
       "      <td>art. L. 122-14-11</td>\n",
       "      <td>L. 1231-6</td>\n",
       "    </tr>\n",
       "    <tr>\n",
       "      <th>7</th>\n",
       "      <td>NaN</td>\n",
       "      <td>art. L. 122-14-11</td>\n",
       "      <td>L. 1232-5</td>\n",
       "    </tr>\n",
       "    <tr>\n",
       "      <th>8</th>\n",
       "      <td>NaN</td>\n",
       "      <td>art. L. 122-14-11</td>\n",
       "      <td>L. 1232-6</td>\n",
       "    </tr>\n",
       "    <tr>\n",
       "      <th>9</th>\n",
       "      <td>NaN</td>\n",
       "      <td>art. L. 122-14-11</td>\n",
       "      <td>L. 1233-14</td>\n",
       "    </tr>\n",
       "    <tr>\n",
       "      <th>10</th>\n",
       "      <td>NaN</td>\n",
       "      <td>art. L. 122-14-11</td>\n",
       "      <td>L. 1233-18</td>\n",
       "    </tr>\n",
       "    <tr>\n",
       "      <th>11</th>\n",
       "      <td>NaN</td>\n",
       "      <td>art. L. 122-14-11</td>\n",
       "      <td>L. 1233-38</td>\n",
       "    </tr>\n",
       "    <tr>\n",
       "      <th>12</th>\n",
       "      <td>NaN</td>\n",
       "      <td>art. L. 122-14-11</td>\n",
       "      <td>L. 1233-44</td>\n",
       "    </tr>\n",
       "    <tr>\n",
       "      <th>13</th>\n",
       "      <td>NaN</td>\n",
       "      <td>art. L. 122-14-11</td>\n",
       "      <td>L. 1233-59</td>\n",
       "    </tr>\n",
       "    <tr>\n",
       "      <th>14</th>\n",
       "      <td>NaN</td>\n",
       "      <td>art. L. 122-14-11</td>\n",
       "      <td>L. 1234-18</td>\n",
       "    </tr>\n",
       "    <tr>\n",
       "      <th>15</th>\n",
       "      <td>NaN</td>\n",
       "      <td>art. L. 122-14-11</td>\n",
       "      <td>L. 1235-6</td>\n",
       "    </tr>\n",
       "    <tr>\n",
       "      <th>16</th>\n",
       "      <td>NaN</td>\n",
       "      <td>art. L. 122-14-11</td>\n",
       "      <td>L. 1235-9</td>\n",
       "    </tr>\n",
       "    <tr>\n",
       "      <th>17</th>\n",
       "      <td>NaN</td>\n",
       "      <td>art. L. 122-14-11</td>\n",
       "      <td>L. 1235-17</td>\n",
       "    </tr>\n",
       "    <tr>\n",
       "      <th>18</th>\n",
       "      <td>NaN</td>\n",
       "      <td>art. L. 122-14-11</td>\n",
       "      <td>L. 1237-2</td>\n",
       "    </tr>\n",
       "    <tr>\n",
       "      <th>19</th>\n",
       "      <td>NaN</td>\n",
       "      <td>art. L. 122-14-12</td>\n",
       "      <td>L. 1237-4</td>\n",
       "    </tr>\n",
       "    <tr>\n",
       "      <th>20</th>\n",
       "      <td>NaN</td>\n",
       "      <td>art. L. 122-14-13, alinéa 1</td>\n",
       "      <td>L. 1237-9</td>\n",
       "    </tr>\n",
       "    <tr>\n",
       "      <th>21</th>\n",
       "      <td>NaN</td>\n",
       "      <td>art. L. 122-14-13, alinéa 2</td>\n",
       "      <td>L. 1237-7</td>\n",
       "    </tr>\n",
       "    <tr>\n",
       "      <th>22</th>\n",
       "      <td>NaN</td>\n",
       "      <td>art. L. 122-14-13, alinéa 3</td>\n",
       "      <td>L. 1237-5</td>\n",
       "    </tr>\n",
       "    <tr>\n",
       "      <th>23</th>\n",
       "      <td>NaN</td>\n",
       "      <td>art. L. 122-14-13, alinéa 4</td>\n",
       "      <td>L. 1237-5-1</td>\n",
       "    </tr>\n",
       "    <tr>\n",
       "      <th>24</th>\n",
       "      <td>NaN</td>\n",
       "      <td>art. L. 122-14-13, alinéa 5</td>\n",
       "      <td>L. 1237-8</td>\n",
       "    </tr>\n",
       "    <tr>\n",
       "      <th>25</th>\n",
       "      <td>NaN</td>\n",
       "      <td>art. L. 122-14-13, alinéa 6</td>\n",
       "      <td>L. 1237-10</td>\n",
       "    </tr>\n",
       "    <tr>\n",
       "      <th>26</th>\n",
       "      <td>NaN</td>\n",
       "      <td>art. L. 122-14-14</td>\n",
       "      <td>L. 1232-8</td>\n",
       "    </tr>\n",
       "    <tr>\n",
       "      <th>27</th>\n",
       "      <td>NaN</td>\n",
       "      <td>art. L. 122-14-15, alinéas 1 et</td>\n",
       "      <td>L. 1232-9</td>\n",
       "    </tr>\n",
       "    <tr>\n",
       "      <th>28</th>\n",
       "      <td>NaN</td>\n",
       "      <td>2</td>\n",
       "      <td>NaN</td>\n",
       "    </tr>\n",
       "    <tr>\n",
       "      <th>29</th>\n",
       "      <td>NaN</td>\n",
       "      <td>art. L. 122-14-15, alinéa 3</td>\n",
       "      <td>L. 1232-10</td>\n",
       "    </tr>\n",
       "    <tr>\n",
       "      <th>30</th>\n",
       "      <td>NaN</td>\n",
       "      <td>art. L. 122-14-15, alinéa 4</td>\n",
       "      <td>L. 1232-11</td>\n",
       "    </tr>\n",
       "    <tr>\n",
       "      <th>31</th>\n",
       "      <td>NaN</td>\n",
       "      <td>art. L. 122-14-16</td>\n",
       "      <td>L. 1232-14</td>\n",
       "    </tr>\n",
       "    <tr>\n",
       "      <th>32</th>\n",
       "      <td>NaN</td>\n",
       "      <td>art. L. 122-14-16, alinéa 2</td>\n",
       "      <td>L. 2411-21</td>\n",
       "    </tr>\n",
       "    <tr>\n",
       "      <th>33</th>\n",
       "      <td>NaN</td>\n",
       "      <td>art. L. 122-14-17</td>\n",
       "      <td>L. 1232-12</td>\n",
       "    </tr>\n",
       "    <tr>\n",
       "      <th>34</th>\n",
       "      <td>NaN</td>\n",
       "      <td>art. L. 122-14-18</td>\n",
       "      <td>L. 1232-13</td>\n",
       "    </tr>\n",
       "    <tr>\n",
       "      <th>35</th>\n",
       "      <td>NaN</td>\n",
       "      <td>art. L. 122-14-18, phrase 3</td>\n",
       "      <td>D. 1232-12</td>\n",
       "    </tr>\n",
       "    <tr>\n",
       "      <th>36</th>\n",
       "      <td>NaN</td>\n",
       "      <td>art. L. 122-15</td>\n",
       "      <td>L. 1237-3</td>\n",
       "    </tr>\n",
       "    <tr>\n",
       "      <th>37</th>\n",
       "      <td>NaN</td>\n",
       "      <td>art. L. 122-16, alinéa 1</td>\n",
       "      <td>L. 1234-19</td>\n",
       "    </tr>\n",
       "    <tr>\n",
       "      <th>38</th>\n",
       "      <td>NaN</td>\n",
       "      <td>art. L. 122-16, alinéas 2 et 3</td>\n",
       "      <td>abrogé</td>\n",
       "    </tr>\n",
       "    <tr>\n",
       "      <th>39</th>\n",
       "      <td>NaN</td>\n",
       "      <td>art. L. 122-16, alinéa 1</td>\n",
       "      <td>D. 1234-6</td>\n",
       "    </tr>\n",
       "  </tbody>\n",
       "</table>\n",
       "</div>"
      ],
      "text/plain": [
       "    Texte               Ancienne référence     Nouvelle\n",
       "0     NaN                              NaN    référence\n",
       "1     NaN                 art. L. 122-14-8    L. 1231-5\n",
       "2     NaN                 art. L. 122-14-9   non repris\n",
       "3     NaN                art. L. 122-14-10   non repris\n",
       "4     NaN                art. L. 122-14-11    L. 1237-1\n",
       "5     NaN                art. L. 122-14-11    L. 1224-4\n",
       "6     NaN                art. L. 122-14-11    L. 1231-6\n",
       "7     NaN                art. L. 122-14-11    L. 1232-5\n",
       "8     NaN                art. L. 122-14-11    L. 1232-6\n",
       "9     NaN                art. L. 122-14-11   L. 1233-14\n",
       "10    NaN                art. L. 122-14-11   L. 1233-18\n",
       "11    NaN                art. L. 122-14-11   L. 1233-38\n",
       "12    NaN                art. L. 122-14-11   L. 1233-44\n",
       "13    NaN                art. L. 122-14-11   L. 1233-59\n",
       "14    NaN                art. L. 122-14-11   L. 1234-18\n",
       "15    NaN                art. L. 122-14-11    L. 1235-6\n",
       "16    NaN                art. L. 122-14-11    L. 1235-9\n",
       "17    NaN                art. L. 122-14-11   L. 1235-17\n",
       "18    NaN                art. L. 122-14-11    L. 1237-2\n",
       "19    NaN                art. L. 122-14-12    L. 1237-4\n",
       "20    NaN      art. L. 122-14-13, alinéa 1    L. 1237-9\n",
       "21    NaN      art. L. 122-14-13, alinéa 2    L. 1237-7\n",
       "22    NaN      art. L. 122-14-13, alinéa 3    L. 1237-5\n",
       "23    NaN      art. L. 122-14-13, alinéa 4  L. 1237-5-1\n",
       "24    NaN      art. L. 122-14-13, alinéa 5    L. 1237-8\n",
       "25    NaN      art. L. 122-14-13, alinéa 6   L. 1237-10\n",
       "26    NaN                art. L. 122-14-14    L. 1232-8\n",
       "27    NaN  art. L. 122-14-15, alinéas 1 et    L. 1232-9\n",
       "28    NaN                                2          NaN\n",
       "29    NaN      art. L. 122-14-15, alinéa 3   L. 1232-10\n",
       "30    NaN      art. L. 122-14-15, alinéa 4   L. 1232-11\n",
       "31    NaN                art. L. 122-14-16   L. 1232-14\n",
       "32    NaN      art. L. 122-14-16, alinéa 2   L. 2411-21\n",
       "33    NaN                art. L. 122-14-17   L. 1232-12\n",
       "34    NaN                art. L. 122-14-18   L. 1232-13\n",
       "35    NaN      art. L. 122-14-18, phrase 3   D. 1232-12\n",
       "36    NaN                   art. L. 122-15    L. 1237-3\n",
       "37    NaN         art. L. 122-16, alinéa 1   L. 1234-19\n",
       "38    NaN   art. L. 122-16, alinéas 2 et 3       abrogé\n",
       "39    NaN         art. L. 122-16, alinéa 1    D. 1234-6"
      ]
     },
     "execution_count": 14,
     "metadata": {},
     "output_type": "execute_result"
    }
   ],
   "source": [
    "a"
   ]
  },
  {
   "cell_type": "code",
   "execution_count": null,
   "metadata": {
    "collapsed": true
   },
   "outputs": [],
   "source": []
  }
 ],
 "metadata": {
  "kernelspec": {
   "display_name": "Python [conda env:anaconda3]",
   "language": "python",
   "name": "conda-env-anaconda3-py"
  },
  "language_info": {
   "codemirror_mode": {
    "name": "ipython",
    "version": 3
   },
   "file_extension": ".py",
   "mimetype": "text/x-python",
   "name": "python",
   "nbconvert_exporter": "python",
   "pygments_lexer": "ipython3",
   "version": "3.6.3"
  }
 },
 "nbformat": 4,
 "nbformat_minor": 2
}
