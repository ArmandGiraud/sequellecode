{
 "cells": [
  {
   "cell_type": "code",
   "execution_count": 77,
   "metadata": {
    "collapsed": true
   },
   "outputs": [],
   "source": [
    "import re\n",
    "\n",
    "def find_context(text, article):\n",
    "    \"\"\"check for a given article the surrounding text and try to find some reference to codes\"\"\"\n",
    "    before = r\"(?P<before>.{1,80})\"\n",
    "    after = r\"(?P<after>.{1,80})\"\n",
    "    regex_article = before + article + after\n",
    "    regex_article = re.compile(regex_article)\n",
    "    context_list = re.findall(regex_article, text)\n",
    "    if context_list:\n",
    "        context = \" \".join(context_list[0]).lower()\n",
    "        return context\n",
    "    else:\n",
    "        print(\"article menntion not found\")\n",
    "        \n",
    "def find_articles_position(text):\n",
    "    \"\"\"find articles mentions in raw string\"\"\"\n",
    "    regex_article = re.compile(\"((?:R|L|D|l|r|d)(?:\\s|\\.|\\.\\s)?\\d{3,4}(?:-\\d{1,2})?(?:-\\d{1,2})?)\")\n",
    "    articles = re.finditer(regex_article, text)\n",
    "    articles = [(art.group(), art.span()) for art in articles]\n",
    "    return list(zip(*articles))\n",
    "    \n",
    "def find_articles_code(text, code_strings = [\"code du travail\"]):\n",
    "    \"\"\"detect articles and reference to a code in the surrounding 80 characters\"\"\"\n",
    "    articles, positions = find_articles_position(text)\n",
    "    contextes = [find_context(text, art) for art in articles]\n",
    "    assert len(articles) == len(contextes), \"problem in function find_context\"\n",
    "    codes = [detect_code(context, code_strings) for context in contextes]\n",
    "    articles_normalized = [normalize_digit(art) for art in articles]\n",
    "    \n",
    "    return list(zip(articles_normalized, codes)), (articles, positions)\n",
    "\n",
    "def detect_code(context, code_strings):\n",
    "    \"\"\"detect in the given surrounding context a code reference\"\"\"\n",
    "    return set(code for code in code_strings if code in context)"
   ]
  },
  {
   "cell_type": "code",
   "execution_count": 78,
   "metadata": {
    "collapsed": true
   },
   "outputs": [],
   "source": [
    "def replace_space(text):\n",
    "    \"remove any kind of space\"\n",
    "    return re.sub(r\"\\xa0|\\n|\\s\",\"\", text)\n",
    "\n",
    "def replace_lower(text):\n",
    "    return text.upper()\n",
    "\n",
    "def replace_point(text):\n",
    "    \"remove point in article mention\"\n",
    "    return re.sub(\"\\.\", \"\", text)\n",
    "\n",
    "def normalize_digit(text):\n",
    "    \"\"\"take ill-defined article reference and turn it into Legifrance ready\n",
    "    ex: l. 783-2 --> L783-2\"\"\"\n",
    "    text = replace_space(text)\n",
    "    text = replace_lower(text)\n",
    "    text = replace_point(text)\n",
    "    return text\n",
    " \n",
    "def build_url(legiart):\n",
    "    \"\"\"turn LEGIARTI ID into url\"\"\"\n",
    "    url = \"https://www.legifrance.gouv.fr/affichCodeArticle.do?idArticle=\" + legiart + \"&cidTexte=LEGITEXT000006072050&dateTexte=20191231\"\n",
    "    return url"
   ]
  },
  {
   "cell_type": "code",
   "execution_count": 99,
   "metadata": {
    "collapsed": true
   },
   "outputs": [],
   "source": [
    "text = \"\"\"Une pause de 20 minutes est obligatoire au bout de six heures de travail échues.\n",
    "     Cette obligation est énoncée aux l’article L3121-33 et L. L3121-31 du Code du travail:\n",
    "    mais toutefois cela contredit l'article  L3187-1 du code de la sécurité sociale\"\"\""
   ]
  },
  {
   "cell_type": "code",
   "execution_count": 100,
   "metadata": {},
   "outputs": [],
   "source": [
    "import json\n",
    "with open(\"../data/mapping-articles-cdtn.json\", \"r\") as f:\n",
    "    code_json = json.load(f)\n",
    "    \n",
    "def find_article_id(article):\n",
    "    \"\"\"return article legi id, if not found: either article is obsolete or not in the detected code\"\"\"\n",
    "    article_id = code_json.get(article)\n",
    "    if not article_id: \n",
    "        return None\n",
    "    return build_url(article_id)"
   ]
  },
  {
   "cell_type": "code",
   "execution_count": 101,
   "metadata": {},
   "outputs": [],
   "source": [
    "def make_href_mark(url, text):\n",
    "    return '<a href=\"' + url + '\">' + text + '</a>'\n",
    "\n",
    "def put_links(text):\n",
    "    articles_normalized, (articles, positions) = find_articles_code(text)\n",
    "    \n",
    "    articles_normalized = [art[0] for art in articles_normalized] # change this line to add new codes\n",
    "    links = [find_article_id(art) for art in articles_normalized]\n",
    "    markups = [(make_href_mark(link, art_norm), art, pos) for link, art_norm, art, pos in zip(links, articles_normalized, articles, positions) if link]\n",
    "    offset = 0\n",
    "    for markup in markups:\n",
    "        text , offset = add_single_markup(text, markup, offset)\n",
    "        \n",
    "    return text"
   ]
  },
  {
   "cell_type": "code",
   "execution_count": 102,
   "metadata": {},
   "outputs": [],
   "source": [
    "def add_single_markup(text, markup, offset):\n",
    "    markup_text, art_len, position = markup\n",
    "    start, end = position\n",
    "    start, end = start + offset, end + offset\n",
    "    new_text = text[:start] + markup_text + text[end:]\n",
    "    return new_text, len(markup_text) - len(art_len)  + offset"
   ]
  },
  {
   "cell_type": "code",
   "execution_count": 103,
   "metadata": {
    "scrolled": false
   },
   "outputs": [
    {
     "data": {
      "text/html": [
       "Une pause de 20 minutes est obligatoire au bout de six heures de travail échues.\n",
       "     Cette obligation est énoncée aux l’article <a href=\"https://www.legifrance.gouv.fr/affichCodeArticle.do?idArticle=LEGIARTI000035653042&cidTexte=LEGITEXT000006072050&dateTexte=20191231\">L3121-33</a> et L. <a href=\"https://www.legifrance.gouv.fr/affichCodeArticle.do?idArticle=LEGIARTI000033020364&cidTexte=LEGITEXT000006072050&dateTexte=20191231\">L3121-31</a> du Code du travail:\n",
       "    mais toutefois cela contredit l'article  L3187-1 du code de la sécurité sociale"
      ],
      "text/plain": [
       "<IPython.core.display.HTML object>"
      ]
     },
     "execution_count": 103,
     "metadata": {},
     "output_type": "execute_result"
    }
   ],
   "source": [
    "from IPython.display import HTML\n",
    "HTML(put_links(text))"
   ]
  },
  {
   "cell_type": "code",
   "execution_count": 15,
   "metadata": {
    "scrolled": false
   },
   "outputs": [
    {
     "data": {
      "text/plain": [
       "'r 122 jours minimum pour ouvrir des droits .\\n\\nVoir toute la réglementation\\xa0Unedic : www.unedic.org\\n\\net en\\xa0particulier la fiche 5 - page 80\\n\\nEXTRAIT : \\nCette condition n?est pas non plus opposable aux salariés qui ne justifient pas de 91 jours ou 455 heures de travail depuis la date de la dernière ouverture de droits ou la dernière date à laquelle les allocations leur ont été refusées.\\n\\nde même que le réglement Général Unedic\\xa0: www.unedic.org\\n\\nExtrait : e)\\xa0n\\'avoir pas quitté volontairement, sauf cas prévus par un accord d\\'application, leur dernière activité professionnelle salariée, ou une activité professionnelle salariée autre que la dernière dès lors que, depuis le départ volontaire, il ne peut être justifié d\\'une période d\\'affiliation d\\'au moins 91\\xa0jours ou d\\'une période de travail d\\'au moins 455\\xa0heures\\xa0;\\n\\nBonne lecture \\n SUITE MILOU\\n\\nEtant entendu que si votre CDD ne fait que 120 jours , Vous\\xa0pourrez bénéficier du chomage calculé sur la base des périodes d\\'affiliation des 28 derniers mois précédant le dernier jour travaillé\\xa0- c\\'est à dire en prenant\\xa0en compte l\\'emploi quitté (y compris le congé maternité qui est compté comme période d\\'affiliation) \\xa0+ le CDD repris.\\nIndemnisation limitée à 24 mois sur la base des salaires bruts perçus au cours des 12 dernbiers moins précédant le dernier jour travaillé (en écartant du calcul les mois en congé maternité) Donc c\\'est bon pour moi alors ?!Dans tous les cas, j\\'espère décrocher un CDI derrière mon CDD. Je suis d\\'ailleurs en train d\\'écrire ma lettre de démission et je ne sais pas si je dois juste mentionner l\\'article du code du travail permettant aux femmes en congé maternité de ne pas faire leur préavis ou également le changement de travail et de région de mon mari.Je ne sais pas non plus quand poster exactement cette lettre... Ils doivent l\\'avoir \\xa0 jours avant la fin de mon congé mais est-ce \\xa0jours ouvrés ? S\\'ils le recoivent 16 ou 17 jours avant, est-ce grave ?Merci pour vos infos!\\xa0 OUI - c\\'est tout bon pour vous\\n\\nIl vaut mieux envoyer votre lettre de démission dans les délais\\xa0et rappeler dans celle-ci les dispositions de l\\'article\\xa0L1225-66 En savoir plus sur cet article...\\n\\n\"Pour élever son enfant, le salarié peut, sous réserve d\\'en informer son employeur au moins quinze jours à l\\'avance, rompre son contrat de travail à l\\'issue du congé de maternité ou d\\'adoption ou, le cas échéant, deux mois après la naissance ou l\\'arrivée au foyer de l\\'enfant, sans être tenu de respecter le délai de préavis, ni de devoir de ce fait d\\'indemnité de rupture.\\xa0\"\\n, tout comme préciser que vous\\xa0avez déménagé pour suivre votre conjoint qui a trouvé du travail dans une autre région.\\n\\n SUITE MILOU\\n\\nVous pouvez envoyer votre lettre 3 semaines avant la fin du congé maternité - les 15 jours sont des jours\\xa0calendaires Merci beaucoup pour votre aide.Je vais la poster demain comme ça, elle partira jeudi ! Je croise les doigts pour que tour se passe bien \\xa0(préavis, paiements des CP (car il m\\'en reste pas mal), ...).\\xa0 Bonjour,\\xa0Mon employeur a reçu ma démission la semaine dernière et je n\\'ai toujours aucune nouvelle de sa part...Doit-il m\\'envoyer un courrier ou quelque chose ?Merci ! \\xa0 Aucune obligation pour l\\'employeur de vous répondre - OK, merci. J\\'aimerai bien quand même avoir des nouvelles. Comment savoir que je oui réellement quitter l\\'entreprise à la fin de mon congé mat ? \\xa0Ou même que la personne à qui j\\'ai adressé mon courrier l\\'ai bien lu (car ce n\\'est pas elle qui a signé l\\'accusé de réception)... Si l\\'on part du principe que le destinataire de la lettre a bien été été informé de votre démission , il importe peu d\\'avoir la confirmation écrite de celle-ci puisque l\\'employeur ne peut pas\\xa0la remettre en cause .\\n\\nVous pouvez toutefois , au terme du congé maternité\\xa0qui marque la fin de votre contrat de travail, faire un nouveau courrier pour demander qu\\'on vous envoie par courrier les documents de fin de contrat.\\n\\nSi l\\'employeur exige que vous veniez les chercher sur place, il sera bien obligé de vous écrire -\\n Ah je n\\'espère pas car c\\'est à Boulogne et je suis arrivée à Rennes (ce que j\\'ai précisé dans mon courrier) !Merci pour toutes ces infos !\\xa0 Bonjour,Savez-vous comment je peux savoir combien je vais toucher pour le paiement de mes CP non pris ? Y a t-il une formule ?Car, normalement, j\\'en ai 36 non pris...\\xa0Merci!\\xa0 Vous pouvez les calculer approximativement:\\n\\nTaux horaire brut X 7 X 36 = Indemnité globale brute à laquelle il faut retrancher 22% pour avoir le NET à payer Bonjour,Ma démission a normalemennt pris acte à la fin de la journée d\\'hier et je n\\'ai toujours pas de nouvelle de mon employeur (juste il y a 10 jour où je leur ai également envoyé ma démission par email et on m\\'a répondu qu\\'ils avaient bien reçu mon courrier) mais je n\\'ai pas eu mon reçu pour solde tout compte ni aucun autre document. Sous quel délai peuvent-ils me les envoyer ?Merci !\\xa0 Bonjour,\\n\\nSi vous avez convenu avec l\\'employeur qu\\'il vous envoie le solde de tout compte par la poste, vous devriez recevoir les documents dès maintenant mais ils sont\\xa0souvent transmis tardivement , quelquefois à la date habituelle du réglement des salaires , en fin de mois.;\\n\\nSi vous ne voyez rien venir, il faudra les relancer par E-Mail ou lettre LR/AR. . \\nBonjour,Meme si il n\\'existe pas de jurisprudence, le service public n\\'exclut la possibilité que l\\'ancien employeur duquel vous avez demissioner pour elever votre enfant, vous poursuive si il apprend que vous avez un nouvel emploi.Nou sommes dans la meme situation : ma conjointe a demissioné 15j avant sa fin de congé maternité, pour ne pas faire de préavis et garder notre enfnat car nous n\\'avions pas de creche.Elle a fini mi janvier, mais il se peut que nous ayons une place en creche courant fevrier elle aimerait donc reprendre un travail mais cela ne fera que 1 mois /1mois et demi depuis la demission et elle redoute une poursuite de son ancien employeur. Mais meme si elle \"patiente\" 3 mois qui aurait été le délai de préavis initial, comme il n\\'existe aucune jurisprudence, là encore il pourrait la poursuivre si il le veut.De votre côté tout s\\'est-il bien derouler ? Avez vous pu repredre un emploi sans que l\\'ancien ne vous poursuive ? Et suite au CDD avez-vous pu prétendre aux allocations chomages ARE ?  \\n\\nBonjour,\\nMeme si il n\\'existe pas de jurisprudence, le service public n\\'exclut la possibilité que l\\'ancien employeur duquel vous avez demissioner pour elever votre enfant, vous poursuive si il apprend que vous avez un nouvel emploi (réponse suite à l\\'appel à service public ce jour)\\xa0\\nNou sommes dans la meme situation : ma conjointe a demissioné 15j avant sa fin de congé maternité, pour ne pas faire de préavis et garder notre enfnat car nous n\\'avions pas de creche.\\nElle a fini mi janvier, mais il se peut que nous ayons une place en creche courant fevrier elle aimerait donc reprendre un travail mais cela ne fera que 1 mois /1mois et demi depuis la demission et elle redoute une poursuite de son ancien employeur.\\xa0\\nMais meme si elle \"patiente\" 3 mois qui aurait été le délai de préavis initial, comme il n\\'existe aucune jurisprudence, là encore il pourrait la poursuivre si il le veut.\\n\\nDe votre côté tout s\\'est-il bien derouler ? Avez vous pu repredre un emploi sans que l\\'ancien ne vous poursuive ? Et suite au CDD avez-vous pu prétendre aux allocations chomages ARE ?\\n\\n  \\nBonjour,Oui tout s\\'est bien passé. J\\'ai démissionné 15 jours avant la fin de congé mater et sur ma fiche assedics, mon ancien employeur a noté que j\\'avais ma période de préavis (3 mois à la base). j\\'ai retravaillé 10 jours après la fin de mon congé maternité et ça n\\'a causé aucun soucis à \\xa0mon ancien employeur. En fait, il n\\'y a aucune qui raison de nous poursuivre pour ça. Ca ne leur donnerait rien... J\\'ai été embauchée en cdi à la fin de mon cdd donc je ne peux pas vous répondre de source sûre mais normalement, j\\'aurai eu le droit aux indemnités chômage.Dans ma lettre de démission, je n\\'avais pas précisé que c\\'était \"pour élever mon enfant\" mais j\\'avais vu cité la loi qui permet aux femmesen congé maternité de ne pas effectuer de préavis.\\xa0  Bonjour,\\xa0je souhaite faire comme jstg24 mais j\\'ai peur que mon employeur me poursuive.mon conges maternite se termine fin aout et je souhaite demissionner pour consacrer plus de temps à mon fils et trouver un poste plus proche de mon domicile (actuellement je fais 110 kms par jr a/r)\\xa0J\\'ai normalement un préavis de 3 mois et je souhaite utiliser la demission \"pour elever un enfant\" afin de ne pas avoir a faire le preavis, toutefois je ne trouve pas de délai entre la demission et la reprise d\\'un autre travail.Pouvez vous m\\'aider SVP ?car j\\'ai peur d\\'accepter un travail proche de chez moi juste apres ma demission et que mon ancien employeur me mette au prud\\'hommesMERCI A TOUS\\xa0 Bonjour,\\n\\nVous ne trouverez pas de réponse juridique à la question posée puisque\\xa0si les textes (code du travail) se bornent à dire qu\\'une jeune maman peut démissionner pour élever son enfant sans avoir de préavis à effectuer\\xa0.\\n\\nPerso, je n\\'ai jamais\\xa0entendu parler de poursuites de la part de\\xa0l\\'employeur (via les prud\\'hommes)\\xa0\\xa0si la maman\\xa0reprend\\xa0\\xa0immédiatement un emploi\\xa0à la suite\\xa0du congé maternité.\\n\\nIl va s\\'en dire que les employeurs ont d\\'autres chats à foueter !\\xa0 et à moins de tomber sur un \"revenchard\" , il faudra qu\\'il démontre devant les juges \\xa0que cet engagement (élever son enfant) est pris pendant x mois et est irrévocable - ce qui est impossible puisque les textes sont muets sur la question.\\n\\nDe plus , la distance qui vous sépare de votre lieu de travail ne peut que conduire les juges à interprêter les textes en votre faveur\\xa0\\xa0\\xa0\\n\\nJe pense que ceux-ci visaient\\xa0plutot à libérer légalement \\xa0la jeune maman de la contrainte du préavis\\xa0de démission pour lui permettre de s\\'organiser au mieux pour faire face aux\\xa0taches nouvelles auxquelles elle est confrontée.\\n\\xa0\\''"
      ]
     },
     "execution_count": 15,
     "metadata": {},
     "output_type": "execute_result"
    }
   ],
   "source": [
    "text[4275:]"
   ]
  },
  {
   "cell_type": "code",
   "execution_count": 94,
   "metadata": {},
   "outputs": [],
   "source": [
    "articles_references, positions = find_articles_code(text)"
   ]
  },
  {
   "cell_type": "code",
   "execution_count": 73,
   "metadata": {},
   "outputs": [],
   "source": [
    "res = find_articles_position(text)"
   ]
  },
  {
   "cell_type": "code",
   "execution_count": 117,
   "metadata": {},
   "outputs": [
    {
     "data": {
      "text/plain": [
       "[('R5424-2', {'code du travail'}),\n",
       " ('R5424-2', {'code du travail'}),\n",
       " ('L5422-2', set()),\n",
       " ('L5424-1', set()),\n",
       " ('L5312-1', set()),\n",
       " ('L5427-1', set()),\n",
       " ('L5424-1', set())]"
      ]
     },
     "execution_count": 117,
     "metadata": {},
     "output_type": "execute_result"
    }
   ],
   "source": [
    "articles_references"
   ]
  },
  {
   "cell_type": "code",
   "execution_count": 95,
   "metadata": {},
   "outputs": [
    {
     "data": {
      "text/plain": [
       "[('R5424-2', {'code du travail'}),\n",
       " ('R5424-2', {'code du travail'}),\n",
       " ('L5422-2', set()),\n",
       " ('L5424-1', set()),\n",
       " ('L5312-1', set()),\n",
       " ('L5427-1', set()),\n",
       " ('L5424-1', set())]"
      ]
     },
     "execution_count": 95,
     "metadata": {},
     "output_type": "execute_result"
    }
   ],
   "source": [
    "articles_references"
   ]
  },
  {
   "cell_type": "code",
   "execution_count": 97,
   "metadata": {
    "collapsed": true
   },
   "outputs": [],
   "source": [
    "t = \"abc\""
   ]
  },
  {
   "cell_type": "code",
   "execution_count": 100,
   "metadata": {},
   "outputs": [
    {
     "ename": "TypeError",
     "evalue": "'str' object does not support item assignment",
     "output_type": "error",
     "traceback": [
      "\u001b[0;31m---------------------------------------------------------------------------\u001b[0m",
      "\u001b[0;31mTypeError\u001b[0m                                 Traceback (most recent call last)",
      "\u001b[0;32m<ipython-input-100-fd3c2cb47d25>\u001b[0m in \u001b[0;36m<module>\u001b[0;34m()\u001b[0m\n\u001b[0;32m----> 1\u001b[0;31m \u001b[0mt\u001b[0m\u001b[0;34m[\u001b[0m\u001b[0;36m1\u001b[0m\u001b[0;34m:\u001b[0m\u001b[0;36m2\u001b[0m\u001b[0;34m]\u001b[0m \u001b[0;34m=\u001b[0m \u001b[0;34m\"aer\"\u001b[0m\u001b[0;34m\u001b[0m\u001b[0m\n\u001b[0m",
      "\u001b[0;31mTypeError\u001b[0m: 'str' object does not support item assignment"
     ]
    }
   ],
   "source": [
    "t[1:2] = \"aer\""
   ]
  },
  {
   "cell_type": "code",
   "execution_count": 111,
   "metadata": {},
   "outputs": [
    {
     "data": {
      "text/plain": [
       "'<a href=\"url\">yo</a>'"
      ]
     },
     "execution_count": 111,
     "metadata": {},
     "output_type": "execute_result"
    }
   ],
   "source": [
    "link_text = \"yo\"\n",
    "url = \"url\"\n",
    "make_href_mark(url, link_text)"
   ]
  },
  {
   "cell_type": "code",
   "execution_count": 109,
   "metadata": {},
   "outputs": [],
   "source": [
    "re"
   ]
  },
  {
   "cell_type": "code",
   "execution_count": null,
   "metadata": {
    "collapsed": true
   },
   "outputs": [],
   "source": [
    "'<a href=\"url\">yo</a>'"
   ]
  }
 ],
 "metadata": {
  "kernelspec": {
   "display_name": "Python [conda env:anaconda3]",
   "language": "python",
   "name": "conda-env-anaconda3-py"
  },
  "language_info": {
   "codemirror_mode": {
    "name": "ipython",
    "version": 3
   },
   "file_extension": ".py",
   "mimetype": "text/x-python",
   "name": "python",
   "nbconvert_exporter": "python",
   "pygments_lexer": "ipython3",
   "version": "3.6.3"
  }
 },
 "nbformat": 4,
 "nbformat_minor": 2
}
